{
 "cells": [
  {
   "cell_type": "markdown",
   "id": "a41e44e9",
   "metadata": {},
   "source": [
    "## Input parameters of the vehicle\n",
    "$\n",
    "Kerb \\: Weight = 108 \\: kg \\\\\n",
    "Passenger \\: Mass = 80 \\: kg \\\\\n",
    "Vehicle \\; accelerates \\: 0-40 \\: \\frac{km}{hr} \\: in \\: 3.3 sec \\\\\n",
    "Vehicle \\: Velocity, v_{accel} = 40 \\times  \\frac{5}{18}  m/s\\\\\n",
    "Vechicle \\: Acceleation \\: Time,t_{accel} = 3.3 s \\\\\n",
    "Gradeability = 1 ^\\circ \\\\\n",
    "Rotational \\: Inertia \\: Factor, I_{rot} = 1.04 \\\\\n",
    "$\n",
    "\n",
    "Note: In this document first the Motor and battery rating is obtained according to the input parameters of the 2W vehicle and then in later stage the required motor rating to obtain the acceleration of 0-40 km/hr in 3.3 sec will be obtained"
   ]
  },
  {
   "cell_type": "code",
   "execution_count": 273,
   "id": "5ead5377",
   "metadata": {
    "scrolled": true
   },
   "outputs": [],
   "source": [
    "# importing the various python packages\n",
    "import scipy as sp\n",
    "import numpy as np\n",
    "import math\n",
    "import array\n",
    "import matplotlib.pyplot as plt\n",
    "from fractions import *\n",
    "from array import *\n",
    "import pandas as pd\n",
    "import xlrd\n",
    "\n",
    "#  Importing the excel file of Indian Driving Cycle(IDC)\n",
    "IDC = pd.read_excel (r'D:\\OneDrive - IIT Delhi\\Jupyter\\IDC_2W.xlsx', sheet_name='IDC')\n",
    "t = pd.DataFrame(IDC, columns= ['Time(Sec)'])          # Time (Sec)\n",
    "v = (5/18)*pd.DataFrame(IDC, columns= ['Speed(Kmph)'])        # Velocity (in m/s)\n",
    "a = pd.DataFrame(IDC, columns= ['Accel(m/s^2)'])        # Acceleration (in m/s^2)\n",
    "\n",
    "# Input parameters of the 2 Wheeler Electric Vehicle\n",
    "m_kerb = 108;       # Kerb weight (Weight of vehicle in kg)\n",
    "m_passenger = 80;   # Mass of the passenger (in kg)\n",
    "v_accel = 40*5/18;  # Vehicle accelerates 0-40 km/hr in 3.3 sec (in m/s)\n",
    "t_accel = 3.3;      # Vehicle acceleration time (in s) to reach 40 km/hr\n",
    "gradeability = 1;   # Vehicle gradeability in degrees\n",
    "I_rot = 1.04;       # Rotational inertia factor"
   ]
  },
  {
   "cell_type": "markdown",
   "id": "021c70c4",
   "metadata": {},
   "source": [
    "## Tyre Size (90/90-12 tubeless for Ather 450x)\n",
    "Note: Size of front wheel and rear wheel is same"
   ]
  },
  {
   "cell_type": "code",
   "execution_count": 274,
   "id": "5705c362",
   "metadata": {},
   "outputs": [
    {
     "name": "stdout",
     "output_type": "stream",
     "text": [
      "Radius of the tyre, r_tyre =  0.2334 m\n"
     ]
    }
   ],
   "source": [
    "# Calculation of radius of the tyre of the vehicle\n",
    "wheel_dia = 12*2.54*10;         # Wheel diameter in mm\n",
    "nominal_section_width = 90;     # Nominal section width of the tyre in mm\n",
    "tyre_aspect_ratio = 0.9;        # Height of the tyre sidewall as percentage of the nominal section width\n",
    "d_tyre = wheel_dia + 2*nominal_section_width*tyre_aspect_ratio; # diameter of the tyre (in mm)\n",
    "r_tyre = d_tyre*0.5/1000;       # Radius of the tyre (in m)\n",
    "print('Radius of the tyre, r_tyre = ',r_tyre, 'm')"
   ]
  },
  {
   "cell_type": "markdown",
   "id": "5a098ab0",
   "metadata": {},
   "source": [
    "# Tractive Effort\n",
    "## Calculation of Rolling Resistance Force\n",
    "$\n",
    "Coefficient \\: of \\: Rolling \\: Resistance, \\mu_{rr} = 0.005 \\\\\n",
    "g=9.81 m/s^2 \\\\\n",
    "Total\\:Weight = Kerb\\:Weight + Passenger\\:Weight \\\\\n",
    "Upward \\: Slope \\: Angle, \\psi = Gradeability \\times \\frac{\\pi}{180} \\: rad \\\\\n",
    "Rolling\\:Resistance = \\mu_{rr} \\times Total\\:Weight \\times g \\times \\cos(\\psi) \\\\\n",
    "$"
   ]
  },
  {
   "cell_type": "code",
   "execution_count": 275,
   "id": "ea722cd4",
   "metadata": {},
   "outputs": [
    {
     "name": "stdout",
     "output_type": "stream",
     "text": [
      "Rolling Resistance Force, Frr =  9.22 N\n"
     ]
    }
   ],
   "source": [
    "mu_rr = 0.005;                          # mu_rr = coefficient of rolling resistance\n",
    "g = 9.81;                               # acceleration of gravity (in m/s^2)\n",
    "m = m_kerb + m_passenger;               # Total mass of vehicle and passanger (in kg)\n",
    "psi = gradeability*math.pi/180;         # Upward slope angle (in rad)\n",
    "Frr = mu_rr*m*g*np.cos(psi);            # Rolling resistance force (in N)\n",
    "print('Rolling Resistance Force, Frr = ', round(Frr, 3),'N')"
   ]
  },
  {
   "cell_type": "markdown",
   "id": "427f99c4",
   "metadata": {},
   "source": [
    "## Calculation of Aerodynamic Drag\n",
    "$ Air \\: Density, \\rho = 1.25 \\: kg/m^3 \\\\\n",
    "Frontal \\: Area, A = 0.6 \\: m^2 \\\\\n",
    "Drag \\: Coefficient \\: Constant, C_d = 0.7 \\\\\n",
    "Wind \\: Velocity \\: Component, v_{wind} = 0\\: m/s\\\\\n",
    "Aerodynamic \\: Drag, F_{ad} = \\rho \\times A \\times C_d \\times (V_{wind} + V_{accel})^2 $"
   ]
  },
  {
   "cell_type": "code",
   "execution_count": 276,
   "id": "3d25307a",
   "metadata": {},
   "outputs": [],
   "source": [
    "ro = 1.25;          # density of the air (in kg/m^3)\n",
    "A = 0.6;            # frontal area (in m^2)\n",
    "Cd = 0.7;           # drag coefficient constant\n",
    "v_wind = 0;         # Wind velocity component (in m/s)\n",
    "Fad = 0.5*ro*A*Cd*np.square(v_wind + v)  # Aerodynamic drag (in N)\n",
    "#print('Aerodynamic Drag, Fad (in N)',round(Fad,3));"
   ]
  },
  {
   "cell_type": "markdown",
   "id": "fb366961",
   "metadata": {},
   "source": [
    "## Calculation of Hill Climbing Force\n",
    "$ Upward \\: Slope \\: Angle, \\psi = Gradeability \\times \\frac{\\pi}{180} \\: rad \\\\\n",
    "Hill \\: Climbing, F_{hc} = m \\times g \\times sin(\\psi)  $"
   ]
  },
  {
   "cell_type": "code",
   "execution_count": 277,
   "id": "a3d586f6",
   "metadata": {},
   "outputs": [
    {
     "name": "stdout",
     "output_type": "stream",
     "text": [
      "Hill CLimbing Force, Fhc =  32.187 N\n"
     ]
    }
   ],
   "source": [
    "Fhc = m*g*math.sin(psi);                    # Hill Climbing (in N)\n",
    "print('Hill CLimbing Force, Fhc = ',round(Fhc,3), 'N')"
   ]
  },
  {
   "cell_type": "markdown",
   "id": "9fd285c3",
   "metadata": {},
   "source": [
    "## Calculation of Acceleration Force\n",
    "\n",
    "$ Linear \\: Acceleration, a_{linear} = \\frac {Vehicle \\: Velocity} {Vehicle \\: Acceleration \\: Time} \\\\ \n",
    "Force \\: due \\: to \\: Linear \\: Acceleration, F_{la} = m \\times a_{linear} \\\\\n",
    "$"
   ]
  },
  {
   "cell_type": "code",
   "execution_count": 278,
   "id": "9323cdc7",
   "metadata": {},
   "outputs": [],
   "source": [
    "Fla = m*I_rot*a;            # Force due to linear acceleration (N)\n",
    "#print ('Force due to Linear Acceleration (in N), Fla = ', round(Fla,2));\n"
   ]
  },
  {
   "cell_type": "markdown",
   "id": "580772ba",
   "metadata": {},
   "source": [
    "## Calculation of Total Tractive Effort             \n",
    "$\n",
    "Total \\: Tractive \\: Effort = Rolling \\: Resistance \\: Force + Aerodynamic \\: Drag + Hill \\: Climbing \\:Force + Force \\: due \\: to \\: Linear \\: Acceleration \\\\ \\\\\n",
    "F_{te} = F_{rr} + F_{ad} + F_{hc} + F_{la}\n",
    "$"
   ]
  },
  {
   "cell_type": "code",
   "execution_count": 279,
   "id": "110690fb",
   "metadata": {
    "scrolled": true
   },
   "outputs": [
    {
     "data": {
      "image/png": "[encoded data removed]",
      "text/plain": [
       "<Figure size 432x288 with 1 Axes>"
      ]
     },
     "metadata": {
      "needs_background": "light"
     },
     "output_type": "display_data"
    }
   ],
   "source": [
    "Fte1 = np.array(Frr + Fhc + np.add(Fad, np.asarray(Fla)));\n",
    "\n",
    "#print(Fte1)\n",
    "Fte = []\n",
    "i=0;\n",
    "for i in range(len(Fte1)):\n",
    "    if Fte1[i] <= 0:\n",
    "        Fte.append(-Fte1[i]*0);\n",
    "    else:\n",
    "        Fte.append(Fte1[i])\n",
    "\n",
    "#for i in range(len(Fte)):\n",
    "    # print(Fte[i])\n",
    "    \n",
    "#print(Fte)\n",
    "%matplotlib inline\n",
    "#plt.figure(1)\n",
    "plt.plot(t, Fte, 'r');\n",
    "plt.xlabel(\"Time (Sec)\", fontsize=8);\n",
    "plt.ylabel(\"Force (N)\", fontsize=8);\n",
    "#plt.xlim([0,len(t)]);\n",
    "#plt.ylim([-Irated*math.sqrt(2),Irated*math.sqrt(2)]);\n",
    "plt.title(label=\"Tractive Force\", fontsize=20, color=\"green\");"
   ]
  },
  {
   "cell_type": "markdown",
   "id": "9215f52b",
   "metadata": {},
   "source": [
    "### Total Tractive Torque\n",
    "$\n",
    "T_{te} = F_{te}\\times r_{tyre}\n",
    "$"
   ]
  },
  {
   "cell_type": "code",
   "execution_count": 280,
   "id": "21515c74",
   "metadata": {},
   "outputs": [
    {
     "data": {
      "image/png": "[encoded data removed]",
      "text/plain": [
       "<Figure size 432x288 with 1 Axes>"
      ]
     },
     "metadata": {
      "needs_background": "light"
     },
     "output_type": "display_data"
    }
   ],
   "source": [
    "Tte = []\n",
    "i = 0;\n",
    "for i in range(len(Fte)):\n",
    "    Tte.append(Fte[i]*r_tyre);\n",
    "\n",
    "#for i in range(len(Tte)):\n",
    "#     print(Tte[i])\n",
    "    \n",
    "#print(Tte)\n",
    "plt.plot(t, Tte, 'r');\n",
    "plt.xlabel(\"Time (Sec)\", fontsize=8);\n",
    "plt.ylabel(\"Torque (Nm)\", fontsize=8);\n",
    "#plt.xlim([0,len(t)]);\n",
    "#plt.ylim([-Irated*math.sqrt(2),Irated*math.sqrt(2)]);\n",
    "plt.title(label=\"Tractive Torque\", fontsize=20, color=\"green\");"
   ]
  },
  {
   "cell_type": "markdown",
   "id": "1ddf708c",
   "metadata": {},
   "source": [
    "### Tractive Power\n",
    "$\n",
    "P_{te} = F_{te} \\times v\n",
    "$"
   ]
  },
  {
   "cell_type": "code",
   "execution_count": 281,
   "id": "c7bba5e4",
   "metadata": {
    "scrolled": true
   },
   "outputs": [
    {
     "data": {
      "image/png": "[encoded data removed]",
      "text/plain": [
       "<Figure size 432x288 with 1 Axes>"
      ]
     },
     "metadata": {
      "needs_background": "light"
     },
     "output_type": "display_data"
    }
   ],
   "source": [
    "v1 =np.array(v);\n",
    "#print(v1)\n",
    "Pte = []\n",
    "i = 0;\n",
    "for i in range(len(Fte)):\n",
    "    #print(i)\n",
    "    Pte.append((Fte[i])*(v1[i]));\n",
    "\n",
    "#print(len(Pte));\n",
    "\n",
    "#for i in range(len(Fte)):\n",
    "#     print(Pte[i])\n",
    "\n",
    "plt.plot(t, Pte, 'r');\n",
    "plt.xlabel(\"Time (Sec)\", fontsize=8);\n",
    "plt.ylabel(\"Power (W)\", fontsize=8);\n",
    "#plt.xlim([0,len(t)]);\n",
    "#plt.ylim([-Irated*math.sqrt(2),Irated*math.sqrt(2)]);\n",
    "plt.title(label=\"Tractive Power\", fontsize=20, color=\"green\");"
   ]
  },
  {
   "cell_type": "markdown",
   "id": "0adaa3b0",
   "metadata": {},
   "source": [
    "### Total Energy Required\n",
    "$\n",
    "Energy = \\frac{(P_{te}[i] + P_{te}[i-1]) \\times (t[i]-t[i-1]) }{2}\n",
    "$"
   ]
  },
  {
   "cell_type": "code",
   "execution_count": 282,
   "id": "50a6642c",
   "metadata": {},
   "outputs": [],
   "source": [
    "t1 =np.array(t);\n",
    "#print(len(t1))\n",
    "\n",
    "Energy = []\n",
    "\n",
    "for i in range(len(t1)):\n",
    "    if i == 0:\n",
    "        Energy.append(i)\n",
    "        #print('IF = ',i)\n",
    "    else:\n",
    "        Energy.append(((Pte[i]+Pte[i-1])*(t1[i] - t1[i-1]))/2)\n",
    "        #print('ELSE = ',i)\n",
    "    \n",
    "#print(len(Energy))\n",
    "#for i in range(len(Energy)):\n",
    "#     print(Energy[i])\n",
    "\n"
   ]
  },
  {
   "cell_type": "markdown",
   "id": "7a154ea2",
   "metadata": {},
   "source": [
    "### Total Distance\n",
    "$\n",
    "Distance = \\frac{(v[i] + v[i-1]) \\times (t[i]-t[i-1]) }{2}\n",
    "$"
   ]
  },
  {
   "cell_type": "code",
   "execution_count": 283,
   "id": "5421dcd2",
   "metadata": {},
   "outputs": [
    {
     "name": "stdout",
     "output_type": "stream",
     "text": [
      "Total Distance =  [3.9475] km\n"
     ]
    }
   ],
   "source": [
    "Distance = []\n",
    "\n",
    "for i in range(len(t1)):\n",
    "    if i == 0:\n",
    "        Distance.append(i);\n",
    "    else:\n",
    "        Distance.append(((v1[i]+v1[i-1])*(t1[i] - t1[i-1]))/(2*1000));         # Distance (in km)    \n",
    "\n",
    "#print(len(Distance))\n",
    "#for i in range(len(Distance)):\n",
    "#     print(Distance[i]);\n",
    "\n",
    "Distance1 = sum(Distance);                      # Total distance (km)\n",
    "print('Total Distance = ',Distance1,'km');"
   ]
  },
  {
   "cell_type": "markdown",
   "id": "71f48969",
   "metadata": {},
   "source": [
    "### Rating of the motor obtained from above calculation"
   ]
  },
  {
   "cell_type": "code",
   "execution_count": 284,
   "id": "0731e094",
   "metadata": {},
   "outputs": [
    {
     "name": "stdout",
     "output_type": "stream",
     "text": [
      "Peak Power =  [3.62212456] kW\n",
      "Total Energy =  [0.20856745] kWh\n",
      "Required battery rating =  [7.92529906] kWh\n"
     ]
    }
   ],
   "source": [
    "Pte1 = max(Pte)/1000;                           # Peak Power throughout the drive cycle\n",
    "print('Peak Power = ',Pte1,'kW')\n",
    "Energy1 = sum(Energy)/(1000*3600);              # Battery (kWh)\n",
    "print('Total Energy = ',Energy1,'kWh');\n",
    "Energy2 =(150/Distance1)*Energy1;               # Required battery rating\n",
    "print('Required battery rating = ',Energy2,'kWh')"
   ]
  },
  {
   "cell_type": "markdown",
   "id": "1dcf4be1",
   "metadata": {},
   "source": [
    "# Modelling the Vehicle Acceleration \n",
    "## Acceleration Performance Parameters\n",
    "$\n",
    "T_{peak} = F_{te} \\times \\frac {r_{tyre}}{G} \\\\\n",
    "Peak \\: Power \\: at \\: 25 \\: Percent \\: of \\: Maximum \\: Speed \\\\%\n",
    "P_{peak} = T_{peak} \\times \\omega \\times 0.25\n",
    "$"
   ]
  },
  {
   "cell_type": "code",
   "execution_count": 285,
   "id": "616e7aa0",
   "metadata": {},
   "outputs": [],
   "source": [
    "#T_peak = Fte*r_tyre/G           # Peak Motor torque (Nm)\n",
    "#P = T_peak*w*0.25;\n",
    "#print(T_peak)\n",
    "#print(P)"
   ]
  }
 ],
 "metadata": {
  "kernelspec": {
   "display_name": "Python 3",
   "language": "python",
   "name": "python3"
  },
  "language_info": {
   "codemirror_mode": {
    "name": "ipython",
    "version": 3
   },
   "file_extension": ".py",
   "mimetype": "text/x-python",
   "name": "python",
   "nbconvert_exporter": "python",
   "pygments_lexer": "ipython3",
   "version": "3.8.8"
  }
 },
 "nbformat": 4,
 "nbformat_minor": 5
}
