{
 "cells": [
  {
   "cell_type": "markdown",
   "id": "a41e44e9",
   "metadata": {},
   "source": [
    "## Input parameters of the vehicle\n",
    "$\n",
    "Kerb \\: Weight = 108 \\: kg \\\\\n",
    "Passenger \\: Mass = 80 \\: kg \\\\\n",
    "Vehicle \\; accelerates \\: 0-40 \\: \\frac{km}{hr} \\: in \\: 3.3 sec \\\\\n",
    "Vehicle \\: Velocity, v_{accel} = 40 \\times  \\frac{5}{18}  m/s\\\\\n",
    "Vechicle \\: Acceleation \\: Time,t_{accel} = 3.3 s \\\\\n",
    "Gradeability = 0 ^\\circ\n",
    "$"
   ]
  },
  {
   "cell_type": "code",
   "execution_count": 6,
   "id": "5ead5377",
   "metadata": {
    "scrolled": true
   },
   "outputs": [],
   "source": [
    "import scipy as sp\n",
    "import numpy as np\n",
    "import math\n",
    "m_kerb = 108;       # Kerb weight (Weight of vehicle in kg)\n",
    "m_passenger = 80;   # Mass of the passenger (in kg)\n",
    "v_accel = 40*5/18;  # Vehicle accelerates 0-40 km/hr in 3.3 sec (in m/s)\n",
    "t_accel = 3.3;      # Vehicle acceleration time (in s) to reach 40 km/hr\n",
    "gradeability = 0;   # Vehicle gradeability in degrees"
   ]
  },
  {
   "cell_type": "markdown",
   "id": "021c70c4",
   "metadata": {},
   "source": [
    "## Tyre Size (90/90-12 tubeless for Ather 450x)"
   ]
  },
  {
   "cell_type": "code",
   "execution_count": 7,
   "id": "5705c362",
   "metadata": {},
   "outputs": [
    {
     "name": "stdout",
     "output_type": "stream",
     "text": [
      "0.2334\n"
     ]
    }
   ],
   "source": [
    "wheel_dia = 12*2.54*10;         # Wheel diameter in mm\n",
    "nominal_section_width = 90;     # Nominal section width of the tyre in mm\n",
    "tyre_aspect_ratio = 0.9;        # Height of the tyre sidewall as percentage of the nominal section width\n",
    "d_tyre = wheel_dia + 2*nominal_section_width*tyre_aspect_ratio; # diameter of the tyre (in mm)\n",
    "r_tyre = d_tyre*0.5/1000;       # Radius of the tyre (in m)\n",
    "print(r_tyre)"
   ]
  },
  {
   "cell_type": "markdown",
   "id": "5a098ab0",
   "metadata": {},
   "source": [
    "# Tractive Effort"
   ]
  },
  {
   "cell_type": "markdown",
   "id": "d607072e",
   "metadata": {},
   "source": [
    "## Calculation of Rolling Resistance Force"
   ]
  },
  {
   "cell_type": "markdown",
   "id": "5ac734a4",
   "metadata": {},
   "source": [
    "$ Coefficient \\: of \\: Rolling \\: Resistance, \\mu_{rr} = 0.005 \\\\\n",
    "g=9.8 m/s^2 \\\\\n",
    "Total\\:Weight = Kerb\\:Weight + Passenger\\:Weight \\\\\n",
    "Rolling\\:Resistance = \\mu_{rr} \\times Total\\:Weight \\times g $"
   ]
  },
  {
   "cell_type": "code",
   "execution_count": 12,
   "id": "ea722cd4",
   "metadata": {},
   "outputs": [
    {
     "name": "stdout",
     "output_type": "stream",
     "text": [
      "9.212000000000002\n"
     ]
    }
   ],
   "source": [
    "mu_rr = 0.005;                          # mu_rr = coefficient of rolling resistance\n",
    "g = 9.8;                                # acceleration of gravity (in m/s^2)\n",
    "m = m_kerb + m_passenger;               # Total mass of vehicle and passanger (in kg)\n",
    "Frr = mu_rr*m*g                         # Rolling resistance force (in N)\n",
    "print(Frr)"
   ]
  },
  {
   "cell_type": "markdown",
   "id": "427f99c4",
   "metadata": {},
   "source": [
    "## Calculation of Aerodynamic Drag\n",
    "$ Air \\: Density, \\rho = 1.25 \\: kg/m^3 \\\\\n",
    "Frontal \\: Area, A = 0.6 \\: m^2 \\\\\n",
    "Drag \\: Coefficient \\: Constant, C_d = 0.7 \\\\\n",
    "Aerodynamic \\: Drag, F_{ad} = \\rho \\times A \\times C_d \\times V_{accel}^2 $"
   ]
  },
  {
   "cell_type": "code",
   "execution_count": 8,
   "id": "3d25307a",
   "metadata": {},
   "outputs": [
    {
     "name": "stdout",
     "output_type": "stream",
     "text": [
      "32.4074074074074\n"
     ]
    }
   ],
   "source": [
    "ro = 1.25;          # density of the air (in kg/m^3)\n",
    "A = 0.6;            # frontal area (in m^2)\n",
    "Cd = 0.7;           # drag coefficient constant \n",
    "Fad = 0.5*ro*A*Cd*math.pow(v_accel,2)  # Aerodynamic drag (in N)\n",
    "print(Fad)"
   ]
  },
  {
   "cell_type": "markdown",
   "id": "fb366961",
   "metadata": {},
   "source": [
    "## Calculation of Hill Climbing Force\n",
    "$ Upward \\: Slope \\: Angle, \\psi = Gradeability \\times \\frac{\\pi}{180} \\: rad \\\\\n",
    "Hill \\: Climbing, F_{hc} = m \\times g \\times sin(\\psi)  $"
   ]
  },
  {
   "cell_type": "code",
   "execution_count": 13,
   "id": "a3d586f6",
   "metadata": {},
   "outputs": [
    {
     "name": "stdout",
     "output_type": "stream",
     "text": [
      "0.0\n"
     ]
    }
   ],
   "source": [
    "psi = gradeability*math.pi/180;       # Upward slope angle (in rad)\n",
    "Fhc = m*g*math.sin(psi);                    # Hill Climbing (in N)\n",
    "print(Fhc)"
   ]
  },
  {
   "cell_type": "markdown",
   "id": "9fd285c3",
   "metadata": {},
   "source": [
    "## Calculation of Acceleration Force\n",
    "\n",
    "$ Linear \\: Acceleration, a_{linear} = \\frac {Vehicle \\: Velocity} {Vehicle \\: Acceleration \\: Time} \\\\ \n",
    "Gear \\: Ratio, G = 10 \\\\\n",
    "Moment \\: of \\: Inertia, I = 0.025 \\: kg.m^2 \\\\\n",
    "Gear \\: System \\: Efficiency, \\eta_g = 1 \\\\ \\\\\n",
    "Force \\: due \\: to \\: Linear \\: Acceleration, F_{la} = m \\times a_{linear} \\\\\n",
    "Axle \\: Torque = Tractive \\: Effort \\: Delivered \\: by \\: the \\: Powertrain \\times Radius \\: of \\: the \\: tyre \\\\\n",
    "Peak \\: Torque = Axle \\: Torque / Gear \\: Ratio \\\\ \\\\\n",
    "Tractive \\: Effort \\: Delivered \\: by \\: the \\: Powertrain, F_{te} = G \\times \\frac{T_{peak}}{r_{tyre}} \\\\\n",
    "Axle \\: Angular \\: Speed = \\frac {Vehicle \\: Velocity}{r_{tyre}} \\: rad/s \\\\\n",
    "Motor \\: Angular \\: Speed, \\omega = G \\times  \\frac {Vehicle \\: Velocity}{r_{tyre}} \\: rad/s \\\\\n",
    "N = \\omega \\times \\frac {60}{2 \\times \\pi} rpm \\\\\n",
    "Motor \\: Angular \\: Acceleration, \\frac {d\\omega}{dt} = G \\times \\frac {a_{linear}} {r_{tyre}} \\: rad/s^2 \\\\\n",
    "T_{peak} = I \\times \\frac{d \\omega}{dt} \\\\\n",
    "Force \\: at \\: the \\: wheels \\: needed \\: to \\: provide \\: the \\: angular \\: acceleration, F_{\\omega a} = I \\times G^2 \\times \\frac {a_{linear}} {\\eta_g \\times r_{tyre}^2} \n",
    "$"
   ]
  },
  {
   "cell_type": "code",
   "execution_count": 21,
   "id": "9323cdc7",
   "metadata": {},
   "outputs": [
    {
     "name": "stdout",
     "output_type": "stream",
     "text": [
      "154.51898828591058\n"
     ]
    }
   ],
   "source": [
    "a_linear = v_accel/t_accel;        # linear acceleration (in m/s^2) (0-40km/hr in 3.3sec)\n",
    "G = 10                             # gear ratio of the system connecting\n",
    "                                   # the motor to the axle\n",
    "I = 0.025;                         # moment of inertia of the rotor of the motor (kg.m^2)\n",
    "eta_g = 1;                         # gear system efficiency\n",
    "         \n",
    "Fla = m*a_linear;                  # Force due to linear acceleration\n",
    "\n",
    "# Fte*r_tyre                       # Axle torque \n",
    "# T_peak = Fte*r_tyre/G            # Motor torque\n",
    "# Fte = G*T_peak/r_tyre            # tractive effort delivered by the powertrain\n",
    "# v_accel/r_tyre                   # axle angular speed (in rad/s)\n",
    "\n",
    "w = G*v_accel/r_tyre;              # motor angular speed (in rad/s)\n",
    "N = w*60/(2*math.pi)                    # motor max speed (in rpm)\n",
    "#w1 = G*a_linear/r_tyre;           # motor angular acceleration (rad/s^2)\n",
    "#T_peak = I*w1;                    # Torque required for the angular acceleration \"w1\"\n",
    "Fwa = I*G*G*a_linear/(eta_g*math.pow(r_tyre,2))     # Force at the wheels needed to provide the angular acceleration    \n",
    "print(Fwa)"
   ]
  },
  {
   "cell_type": "markdown",
   "id": "580772ba",
   "metadata": {},
   "source": [
    "## Calculation of Total Tractive Effort             \n",
    "$\n",
    "Total \\: Tractive \\: Effort = Rolling \\: Resistance \\: Force + Aerodynamic \\: Drag + Hill \\: Climbing \\:Force + \\\\ Force \\: due \\: to \\: Linear \\: Acceleration + Acceleration \\: Force \\\\ \\\\\n",
    "F_{te} = F_{rr} + F_{ad} + F_{hc} + F_{la} + F_{\\omega a}\n",
    "$"
   ]
  },
  {
   "cell_type": "code",
   "execution_count": 23,
   "id": "110690fb",
   "metadata": {},
   "outputs": [
    {
     "name": "stdout",
     "output_type": "stream",
     "text": [
      "829.135028689951\n"
     ]
    }
   ],
   "source": [
    "Fte = Frr + Fad + Fhc + Fla + Fwa;\n",
    "print(Fte)"
   ]
  },
  {
   "cell_type": "markdown",
   "id": "1dcf4be1",
   "metadata": {},
   "source": [
    "# Modelling the Vehicle Acceleration \n",
    "## Acceleration Performance Parameters\n",
    "$\n",
    "T_{peak} = F_{te} \\times \\frac {r_{tyre}}{G} \\\\\n",
    "Peak \\: Power \\: at \\: 25 \\: Percent \\: of \\: Maximum \\: Speed \\\\%\n",
    "P_{peak} = T_{peak} \\times \\omega \\times 0.25\n",
    "$"
   ]
  },
  {
   "cell_type": "code",
   "execution_count": 26,
   "id": "616e7aa0",
   "metadata": {},
   "outputs": [
    {
     "name": "stdout",
     "output_type": "stream",
     "text": [
      "19.352011569623457\n",
      "2303.1528574720865\n"
     ]
    }
   ],
   "source": [
    "T_peak = Fte*r_tyre/G           # Peak Motor torque (Nm)\n",
    "P = T_peak*w*0.25;\n",
    "print(T_peak)\n",
    "print(P)"
   ]
  }
 ],
 "metadata": {
  "kernelspec": {
   "display_name": "Python 3",
   "language": "python",
   "name": "python3"
  },
  "language_info": {
   "codemirror_mode": {
    "name": "ipython",
    "version": 3
   },
   "file_extension": ".py",
   "mimetype": "text/x-python",
   "name": "python",
   "nbconvert_exporter": "python",
   "pygments_lexer": "ipython3",
   "version": "3.8.8"
  }
 },
 "nbformat": 4,
 "nbformat_minor": 5
}
